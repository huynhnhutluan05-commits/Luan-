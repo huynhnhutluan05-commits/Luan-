{
 "cells": [
  {
   "cell_type": "code",
   "execution_count": 5,
   "id": "6ac16fc5-8036-40c6-8abb-b8a022478fd5",
   "metadata": {
    "scrolled": true
   },
   "outputs": [
    {
     "name": "stdout",
     "output_type": "stream",
     "text": [
      "Thank you ANH\n",
      "Thank you VI CÁ\n"
     ]
    }
   ],
   "source": [
    "def print_thank_you(ten):\n",
    "    \"\"\"\n",
    "    In ra một chuỗi chứa \"Thank you\" và tên.\n",
    "\n",
    "    Tham số\n",
    "    ---------\n",
    "    ten : str\n",
    "        Tên là tên của ai đó.\n",
    "    \"\"\"\n",
    "    print(\"Thank you\", ten)\n",
    "\n",
    "\n",
    "print_thank_you(\"ANH\")\n",
    "print_thank_you(\"VI CÁ\")\n"
   ]
  },
  {
   "cell_type": "code",
   "execution_count": 14,
   "id": "b088b7bb-4852-41e2-9dd0-6e7c65d4f6d8",
   "metadata": {},
   "outputs": [
    {
     "name": "stdout",
     "output_type": "stream",
     "text": [
      "Thank you Mrs Maria Lopez\n",
      "Thank you Mr Xiao Li\n"
     ]
    }
   ],
   "source": [
    "def print_thank_you(tiento, ho, ten):\n",
    "    \"\"\"\n",
    "    In ra một chuỗi chứa \"Thank you\" và đầu vào.\n",
    "\n",
    "    Tham số\n",
    "    ---------\n",
    "    tiento : str\n",
    "        Là ông hay bà (Mr/Mrs/...).\n",
    "    ho : str\n",
    "        Họ của người đó.\n",
    "    ten : str\n",
    "        Tên của người đó.\n",
    "    \"\"\"\n",
    "    print(\"Thank you\", tiento, ho, ten)\n",
    "\n",
    "\n",
    "\n",
    "print_thank_you(\"Mrs\", \"Maria\", \"Lopez\")\n",
    "print_thank_you(\"Mr\", \"Xiao\", \"Li\")\n",
    "\n",
    "\n"
   ]
  },
  {
   "cell_type": "code",
   "execution_count": 24,
   "id": "b6b08610-56c9-4244-bb3f-28e494aaae1c",
   "metadata": {},
   "outputs": [
    {
     "name": "stdout",
     "output_type": "stream",
     "text": [
      "Cảm ơn Mrs Maria Lopez\n",
      "Cảm ơn Mr Xiao Li\n",
      "Cảm ơn Ms Nguyen \n"
     ]
    }
   ],
   "source": [
    "def print_thank_you(tiento, ho, ten=\"\"):\n",
    "    \"\"\"\n",
    "    In ra một chuỗi chứa \"Thank you\" và đầu vào.\n",
    "\n",
    "    Tham số\n",
    "    ---------\n",
    "    tiento : string\n",
    "        Là ông hay bà.\n",
    "    ho : string\n",
    "        Họ của người đó.\n",
    "    ten : string\n",
    "        Tên là tên của ai đó. \n",
    "        mặc định đang thiết lập là trống.\n",
    "    \"\"\"\n",
    "    print(\"Cảm ơn\", tiento, ho, ten)\n",
    "\n",
    "\n",
    "\n",
    "print_thank_you(\"Mrs\", \"Maria\", \"Lopez\")\n",
    "print_thank_you(\"Mr\", \"Xiao\", \"Li\")\n",
    "\n",
    "\n",
    "print_thank_you(\"Ms\", \"Nguyen\")\n"
   ]
  },
  {
   "cell_type": "code",
   "execution_count": 27,
   "id": "13fed7da-e069-4d0b-8c72-a429ace0ab24",
   "metadata": {},
   "outputs": [
    {
     "name": "stdout",
     "output_type": "stream",
     "text": [
      "Ông/bà: Mrs\n",
      "Họ: Maria\n",
      "Tên: Lopez\n",
      "Thank you Mrs Maria Lopez\n",
      "Ông/bà: \n",
      "Họ: Xiao\n",
      "Tên: Li\n",
      "Thank you  Xiao Li\n"
     ]
    }
   ],
   "source": [
    "def print_thank_you(tiento=\"\", ho=\"\", ten=\"\"):\n",
    "    \"\"\"\n",
    "    In ra một chuỗi chứa \"Thank you\" và đầu vào.\n",
    "\n",
    "    Tham số\n",
    "    ---------\n",
    "    tiento : string\n",
    "        Là ông hay bà.\n",
    "    ho : string\n",
    "        Họ của người đó.\n",
    "    ten : string\n",
    "        Tên là tên của ai đó.\n",
    "        Mặc định đang thiết lập là trống.\n",
    "    \"\"\"\n",
    "    print(\"Ông/bà:\", tiento)\n",
    "    print(\"Họ:\", ho)\n",
    "    print(\"Tên:\", ten)\n",
    "    print(\"Thank you\", tiento, ho, ten)\n",
    "\n",
    "\n",
    "\n",
    "print_thank_you(\"Mrs\", \"Maria\", \"Lopez\")\n",
    "print_thank_you(ho=\"Xiao\" , ten=\"Li\")\n"
   ]
  },
  {
   "cell_type": "code",
   "execution_count": 32,
   "id": "d1b6c527-7ac1-4ba0-abfb-f7649def4ee7",
   "metadata": {},
   "outputs": [
    {
     "name": "stdout",
     "output_type": "stream",
     "text": [
      "Hiking trails Khong dung YC\n",
      "weekEndcampIng Khong dung YC\n",
      "enjoying nature Khong dung YC\n",
      "fishing Dung YC\n",
      "=> fishing\n"
     ]
    }
   ],
   "source": [
    "def Chuoi1(Chuoi, songuyen):\n",
    "    if len(Chuoi) == songuyen:\n",
    "        print(Chuoi, \"Dung YC\")\n",
    "        return True\n",
    "    else:\n",
    "        print(Chuoi, \"Khong dung YC\")\n",
    "        return False\n",
    "\n",
    "songuyen = 7\n",
    "summer_vacation = [\"Hiking trails\", \"weekEndcampIng\", \"enjoying nature\", \"fishing\"]\n",
    "\n",
    "for item in summer_vacation:\n",
    "    if Chuoi1(item, songuyen):\n",
    "        print(\"=>\", item)\n"
   ]
  },
  {
   "cell_type": "code",
   "execution_count": 37,
   "id": "5476d1fd-b08b-4c67-9ccc-f5e311bc4fda",
   "metadata": {},
   "outputs": [
    {
     "name": "stdout",
     "output_type": "stream",
     "text": [
      "Các chuỗi có độ dài = {do_dai}:\n",
      "++ apple\n",
      "++ melon\n",
      "\n",
      "Các chuỗi có độ dài = {do_dai}:\n",
      "++ banana\n",
      "++ grapes\n",
      "++ orange\n",
      "\n"
     ]
    }
   ],
   "source": [
    "def in_chuoi_dung_do_dai(ds_chuoi, do_dai):\n",
    "    print(\"Các chuỗi có độ dài = {do_dai}:\")\n",
    "    for chuoi in ds_chuoi:\n",
    "        if len(chuoi) == do_dai:\n",
    "            print(\"++\", chuoi)\n",
    "    print() \n",
    "\n",
    "\n",
    "danh_sach = [\"apple\", \"banana\", \"pear\", \"grapes\", \"melon\", \"kiwi\", \"orange\"]\n",
    "\n",
    "\n",
    "in_chuoi_dung_do_dai(danh_sach, 5)\n",
    "in_chuoi_dung_do_dai(danh_sach, 6)\n"
   ]
  },
  {
   "cell_type": "code",
   "execution_count": 43,
   "id": "1cbb8cf7-3906-49d2-a795-452424cd1ec2",
   "metadata": {},
   "outputs": [
    {
     "name": "stdout",
     "output_type": "stream",
     "text": [
      "Các số chia hết cho {uoc_so}:\n",
      "- 5\n",
      "- 10\n",
      "\n",
      "Các số chia hết cho {uoc_so}:\n",
      "- 3\n",
      "- 6\n",
      "- 9\n",
      "\n",
      "Các số chia hết cho {uoc_so}:\n",
      "- 2\n",
      "- 4\n",
      "- 6\n",
      "- 8\n",
      "- 10\n",
      "\n"
     ]
    }
   ],
   "source": [
    "def in_so_chia_het(danh_sach, uoc_so=2):\n",
    "    print(\"Các số chia hết cho {uoc_so}:\")\n",
    "    for so in danh_sach:\n",
    "        if so % uoc_so == 0:\n",
    "            print(\"-\", so)\n",
    "    print()  \n",
    "\n",
    "\n",
    "ds_so = [1, 2, 3, 4, 5, 6, 7, 8, 9, 10]\n",
    "\n",
    "\n",
    "in_so_chia_het(ds_so, 5)\n",
    "in_so_chia_het(ds_so, 3)\n",
    "\n",
    "\n",
    "in_so_chia_het(ds_so)\n"
   ]
  },
  {
   "cell_type": "code",
   "execution_count": null,
   "id": "6b05359b-a450-47bd-ab4f-aa8565dfa1e7",
   "metadata": {},
   "outputs": [],
   "source": []
  }
 ],
 "metadata": {
  "kernelspec": {
   "display_name": "Python [conda env:base] *",
   "language": "python",
   "name": "conda-base-py"
  },
  "language_info": {
   "codemirror_mode": {
    "name": "ipython",
    "version": 3
   },
   "file_extension": ".py",
   "mimetype": "text/x-python",
   "name": "python",
   "nbconvert_exporter": "python",
   "pygments_lexer": "ipython3",
   "version": "3.13.5"
  }
 },
 "nbformat": 4,
 "nbformat_minor": 5
}
