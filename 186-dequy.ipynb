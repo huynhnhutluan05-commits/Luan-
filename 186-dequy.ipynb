{
 "cells": [
  {
   "cell_type": "markdown",
   "metadata": {},
   "source": [
    "# Đệ quy và Bài tập áp dụng"
   ]
  },
  {
   "cell_type": "code",
   "execution_count": null,
   "metadata": {},
   "outputs": [],
   "source": [
    "def giaithua(n):\n",
    "    if n > 1:\n",
    "        return giaithua(n-1)*n\n",
    "    else:\n",
    "        return 1\n",
    "\n",
    "print(\"Giai thừa của 4 là:\", giaithua(4))"
   ]
  },
  {
   "cell_type": "markdown",
   "metadata": {},
   "source": [
    "## Bài tập áp dụng"
   ]
  },
  {
   "cell_type": "code",
   "execution_count": null,
   "metadata": {},
   "outputs": [],
   "source": [
    "import random\n",
    "\n",
    "# 1. Chọn một từ ngẫu nhiên\n",
    "def chon_tu_ngau_nhien(danh_sach_tu):\n",
    "    \"\"\"\n",
    "    Chọn một từ ngẫu nhiên từ danh sách và trả về ở dạng chữ thường.\n",
    "    Ví dụ: đầu vào: [\"muỗng\", \"Nĩa\", \"DAO\"], đầu ra: \"nĩa\"\n",
    "    \"\"\"\n",
    "    if not danh_sach_tu:\n",
    "        return None\n",
    "    tu_duoc_chon = random.choice(danh_sach_tu)\n",
    "    return tu_duoc_chon.lower()\n",
    "\n",
    "# Ví dụ sử dụng bài 1:\n",
    "print(\"--- Bài tập 1: Chọn từ ngẫu nhiên ---\")\n",
    "danh_sach = [\"muỗng\", \"Nĩa\", \"DAO\"]\n",
    "tu_chon = chon_tu_ngau_nhien(danh_sach)\n",
    "print(f\"Danh sách từ: {danh_sach}\")\n",
    "print(f\"Từ được chọn ngẫu nhiên (chữ thường): {tu_chon}\")"
   ]
  },
  {
   "cell_type": "code",
   "execution_count": null,
   "metadata": {},
   "outputs": [],
   "source": [
    "# 2. Hiển thị các chữ cái đã đoán\n",
    "def hien_thi_chu_cai_da_doan(tu, chu_cai_da_doan):\n",
    "    \"\"\"\n",
    "    Hiển thị từ với các chữ cái đã đoán đúng vị trí, \n",
    "    các chữ cái chưa đoán được thay bằng dấu gạch dưới.\n",
    "    Ví dụ: đầu vào: (\"l\", \"hello\"), đầu ra: \"__ll_\"\n",
    "    \"\"\"\n",
    "    ket_qua = \"\"\n",
    "    for chu_cai in tu:\n",
    "        if chu_cai in chu_cai_da_doan:\n",
    "            ket_qua += chu_cai + \" \"\n",
    "        else:\n",
    "            ket_qua += \"_ \"\n",
    "    return ket_qua.strip()\n",
    "\n",
    "# Ví dụ sử dụng bài 2:\n",
    "print(\"--- Bài tập 2: Hiển thị chữ cái đã đoán ---\")\n",
    "tu_goc = \"hello\"\n",
    "chu_cai_1 = \"l\"\n",
    "print(f\"Từ gốc: {tu_goc}, chữ cái đã đoán: '{chu_cai_1}'\")\n",
    "print(f\"Kết quả: {hien_thi_chu_cai_da_doan(tu_goc, chu_cai_1)}\")\n",
    "\n",
    "chu_cai_2 = \"ol\"\n",
    "print(f\"Từ gốc: {tu_goc}, chữ cái đã đoán: '{chu_cai_2}'\")\n",
    "print(f\"Kết quả: {hien_thi_chu_cai_da_doan(tu_goc, chu_cai_2)}\")"
   ]
  },
  {
   "cell_type": "markdown",
   "metadata": {},
   "source": [
    "## 2. Nhập mô-đun và chạy hàm"
   ]
  },
  {
   "cell_type": "code",
   "execution_count": null,
   "metadata": {},
   "outputs": [],
   "source": [
    "import setup_database\n",
    "username = setup_database.create_username(\"John\", \"Gelb\")\n",
    "print(username)"
   ]
  },
  {
   "cell_type": "code",
   "execution_count": null,
   "metadata": {},
   "outputs": [],
   "source": [
    "import setup_database as sdb\n",
    "username = sdb.create_username(\"John\", \"Gelb\")\n",
    "print(username)"
   ]
  },
  {
   "cell_type": "code",
   "execution_count": null,
   "metadata": {},
   "outputs": [],
   "source": [
    "from setup_database import create_username\n",
    "username = create_username(\"John\", \"Gelb\")\n",
    "print(username)"
   ]
  },
  {
   "cell_type": "code",
   "execution_count": null,
   "metadata": {},
   "outputs": [],
   "source": [
    "from setup_database import create_username as cu\n",
    "username = cu(\"John\", \"Gelb\")\n",
    "print(username)"
   ]
  },
  {
   "cell_type": "code",
   "execution_count": null,
   "metadata": {},
   "outputs": [],
   "source": [
    "import setup_database\n",
    "password = setup_database.create_password()\n",
    "print(password)"
   ]
  },
  {
   "cell_type": "code",
   "execution_count": null,
   "metadata": {},
   "outputs": [],
   "source": [
    "import setup_database\n",
    "customers = [[\"Maria\", \"Lopez\"], [\"Julia\", \"Smith\"], [\"Mohammed\", \"Seid\"]]\n",
    "db, n = setup_database.create_database(customers)\n",
    "print(db)\n",
    "print(\"Tong so khach hang: \", n)"
   ]
  }
 ],
 "metadata": {
  "kernelspec": {
   "display_name": "Python 3",
   "language": "python",
   "name": "python3"
  },
  "language_info": {
   "codemirror_mode": {
    "name": "ipython",
    "version": 3
   },
   "file_extension": ".py",
   "mimetype": "text/x-python",
   "name": "python",
   "nbconvert_exporter": "python",
   "pygments_lexer": "ipython3",
   "version": "3.9.7"
  }
 },
 "nbformat": 4,
 "nbformat_minor": 4
}
